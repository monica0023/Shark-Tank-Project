{
  "nbformat": 4,
  "nbformat_minor": 0,
  "metadata": {
    "colab": {
      "provenance": []
    },
    "kernelspec": {
      "name": "python3",
      "display_name": "Python 3"
    },
    "language_info": {
      "name": "python"
    }
  },
  "cells": [
    {
      "cell_type": "markdown",
      "source": [
        "**📝 MemoTag – Early Cognitive Risk Detection Report (Speech Analysis)**\n",
        "\n",
        "Completed by:\n",
        "\n",
        "NAME : MONICA R\n",
        "\n",
        "CLASS : MDS-B\n",
        "\n",
        "ROLL NO : 2348437\n",
        "\n",
        "EMAIL ID : monica.r.041002@gmail.com\n"
      ],
      "metadata": {
        "id": "qoAIf6UBhh8K"
      }
    },
    {
      "cell_type": "markdown",
      "source": [
        "1. Objective\n",
        "To analyze speech patterns from anonymized audio samples and detect signs of potential cognitive impairment using unsupervised machine learning and custom voice features."
      ],
      "metadata": {
        "id": "3_XFKnq6h9dx"
      }
    },
    {
      "cell_type": "code",
      "execution_count": 1,
      "metadata": {
        "colab": {
          "base_uri": "https://localhost:8080/"
        },
        "id": "pLlnq-MpTUVg",
        "outputId": "b7df7f0b-dc77-4de8-f8b8-0334ee80e55f"
      },
      "outputs": [
        {
          "output_type": "stream",
          "name": "stdout",
          "text": [
            "Collecting openai-whisper\n",
            "  Downloading openai-whisper-20240930.tar.gz (800 kB)\n",
            "\u001b[?25l     \u001b[90m━━━━━━━━━━━━━━━━━━━━━━━━━━━━━━━━━━━━━━━━\u001b[0m \u001b[32m0.0/800.5 kB\u001b[0m \u001b[31m?\u001b[0m eta \u001b[36m-:--:--\u001b[0m\r\u001b[2K     \u001b[91m━━━━━━━━━━━━━━━━━━━━━━━━━━━━━━━━━━━━━\u001b[0m\u001b[91m╸\u001b[0m \u001b[32m798.7/800.5 kB\u001b[0m \u001b[31m25.4 MB/s\u001b[0m eta \u001b[36m0:00:01\u001b[0m\r\u001b[2K     \u001b[90m━━━━━━━━━━━━━━━━━━━━━━━━━━━━━━━━━━━━━━\u001b[0m \u001b[32m800.5/800.5 kB\u001b[0m \u001b[31m16.7 MB/s\u001b[0m eta \u001b[36m0:00:00\u001b[0m\n",
            "\u001b[?25h  Installing build dependencies ... \u001b[?25l\u001b[?25hdone\n",
            "  Getting requirements to build wheel ... \u001b[?25l\u001b[?25hdone\n",
            "  Preparing metadata (pyproject.toml) ... \u001b[?25l\u001b[?25hdone\n",
            "Requirement already satisfied: numba in /usr/local/lib/python3.11/dist-packages (from openai-whisper) (0.60.0)\n",
            "Requirement already satisfied: numpy in /usr/local/lib/python3.11/dist-packages (from openai-whisper) (2.0.2)\n",
            "Requirement already satisfied: torch in /usr/local/lib/python3.11/dist-packages (from openai-whisper) (2.6.0+cu124)\n",
            "Requirement already satisfied: tqdm in /usr/local/lib/python3.11/dist-packages (from openai-whisper) (4.67.1)\n",
            "Requirement already satisfied: more-itertools in /usr/local/lib/python3.11/dist-packages (from openai-whisper) (10.6.0)\n",
            "Collecting tiktoken (from openai-whisper)\n",
            "  Downloading tiktoken-0.9.0-cp311-cp311-manylinux_2_17_x86_64.manylinux2014_x86_64.whl.metadata (6.7 kB)\n",
            "Requirement already satisfied: triton>=2.0.0 in /usr/local/lib/python3.11/dist-packages (from openai-whisper) (3.2.0)\n",
            "Requirement already satisfied: llvmlite<0.44,>=0.43.0dev0 in /usr/local/lib/python3.11/dist-packages (from numba->openai-whisper) (0.43.0)\n",
            "Requirement already satisfied: regex>=2022.1.18 in /usr/local/lib/python3.11/dist-packages (from tiktoken->openai-whisper) (2024.11.6)\n",
            "Requirement already satisfied: requests>=2.26.0 in /usr/local/lib/python3.11/dist-packages (from tiktoken->openai-whisper) (2.32.3)\n",
            "Requirement already satisfied: filelock in /usr/local/lib/python3.11/dist-packages (from torch->openai-whisper) (3.18.0)\n",
            "Requirement already satisfied: typing-extensions>=4.10.0 in /usr/local/lib/python3.11/dist-packages (from torch->openai-whisper) (4.13.1)\n",
            "Requirement already satisfied: networkx in /usr/local/lib/python3.11/dist-packages (from torch->openai-whisper) (3.4.2)\n",
            "Requirement already satisfied: jinja2 in /usr/local/lib/python3.11/dist-packages (from torch->openai-whisper) (3.1.6)\n",
            "Requirement already satisfied: fsspec in /usr/local/lib/python3.11/dist-packages (from torch->openai-whisper) (2025.3.2)\n",
            "Collecting nvidia-cuda-nvrtc-cu12==12.4.127 (from torch->openai-whisper)\n",
            "  Downloading nvidia_cuda_nvrtc_cu12-12.4.127-py3-none-manylinux2014_x86_64.whl.metadata (1.5 kB)\n",
            "Collecting nvidia-cuda-runtime-cu12==12.4.127 (from torch->openai-whisper)\n",
            "  Downloading nvidia_cuda_runtime_cu12-12.4.127-py3-none-manylinux2014_x86_64.whl.metadata (1.5 kB)\n",
            "Collecting nvidia-cuda-cupti-cu12==12.4.127 (from torch->openai-whisper)\n",
            "  Downloading nvidia_cuda_cupti_cu12-12.4.127-py3-none-manylinux2014_x86_64.whl.metadata (1.6 kB)\n",
            "Collecting nvidia-cudnn-cu12==9.1.0.70 (from torch->openai-whisper)\n",
            "  Downloading nvidia_cudnn_cu12-9.1.0.70-py3-none-manylinux2014_x86_64.whl.metadata (1.6 kB)\n",
            "Collecting nvidia-cublas-cu12==12.4.5.8 (from torch->openai-whisper)\n",
            "  Downloading nvidia_cublas_cu12-12.4.5.8-py3-none-manylinux2014_x86_64.whl.metadata (1.5 kB)\n",
            "Collecting nvidia-cufft-cu12==11.2.1.3 (from torch->openai-whisper)\n",
            "  Downloading nvidia_cufft_cu12-11.2.1.3-py3-none-manylinux2014_x86_64.whl.metadata (1.5 kB)\n",
            "Collecting nvidia-curand-cu12==10.3.5.147 (from torch->openai-whisper)\n",
            "  Downloading nvidia_curand_cu12-10.3.5.147-py3-none-manylinux2014_x86_64.whl.metadata (1.5 kB)\n",
            "Collecting nvidia-cusolver-cu12==11.6.1.9 (from torch->openai-whisper)\n",
            "  Downloading nvidia_cusolver_cu12-11.6.1.9-py3-none-manylinux2014_x86_64.whl.metadata (1.6 kB)\n",
            "Collecting nvidia-cusparse-cu12==12.3.1.170 (from torch->openai-whisper)\n",
            "  Downloading nvidia_cusparse_cu12-12.3.1.170-py3-none-manylinux2014_x86_64.whl.metadata (1.6 kB)\n",
            "Requirement already satisfied: nvidia-cusparselt-cu12==0.6.2 in /usr/local/lib/python3.11/dist-packages (from torch->openai-whisper) (0.6.2)\n",
            "Requirement already satisfied: nvidia-nccl-cu12==2.21.5 in /usr/local/lib/python3.11/dist-packages (from torch->openai-whisper) (2.21.5)\n",
            "Requirement already satisfied: nvidia-nvtx-cu12==12.4.127 in /usr/local/lib/python3.11/dist-packages (from torch->openai-whisper) (12.4.127)\n",
            "Collecting nvidia-nvjitlink-cu12==12.4.127 (from torch->openai-whisper)\n",
            "  Downloading nvidia_nvjitlink_cu12-12.4.127-py3-none-manylinux2014_x86_64.whl.metadata (1.5 kB)\n",
            "Requirement already satisfied: sympy==1.13.1 in /usr/local/lib/python3.11/dist-packages (from torch->openai-whisper) (1.13.1)\n",
            "Requirement already satisfied: mpmath<1.4,>=1.1.0 in /usr/local/lib/python3.11/dist-packages (from sympy==1.13.1->torch->openai-whisper) (1.3.0)\n",
            "Requirement already satisfied: charset-normalizer<4,>=2 in /usr/local/lib/python3.11/dist-packages (from requests>=2.26.0->tiktoken->openai-whisper) (3.4.1)\n",
            "Requirement already satisfied: idna<4,>=2.5 in /usr/local/lib/python3.11/dist-packages (from requests>=2.26.0->tiktoken->openai-whisper) (3.10)\n",
            "Requirement already satisfied: urllib3<3,>=1.21.1 in /usr/local/lib/python3.11/dist-packages (from requests>=2.26.0->tiktoken->openai-whisper) (2.3.0)\n",
            "Requirement already satisfied: certifi>=2017.4.17 in /usr/local/lib/python3.11/dist-packages (from requests>=2.26.0->tiktoken->openai-whisper) (2025.1.31)\n",
            "Requirement already satisfied: MarkupSafe>=2.0 in /usr/local/lib/python3.11/dist-packages (from jinja2->torch->openai-whisper) (3.0.2)\n",
            "Downloading tiktoken-0.9.0-cp311-cp311-manylinux_2_17_x86_64.manylinux2014_x86_64.whl (1.2 MB)\n",
            "\u001b[2K   \u001b[90m━━━━━━━━━━━━━━━━━━━━━━━━━━━━━━━━━━━━━━━━\u001b[0m \u001b[32m1.2/1.2 MB\u001b[0m \u001b[31m50.5 MB/s\u001b[0m eta \u001b[36m0:00:00\u001b[0m\n",
            "\u001b[?25hDownloading nvidia_cublas_cu12-12.4.5.8-py3-none-manylinux2014_x86_64.whl (363.4 MB)\n",
            "\u001b[2K   \u001b[90m━━━━━━━━━━━━━━━━━━━━━━━━━━━━━━━━━━━━━━━━\u001b[0m \u001b[32m363.4/363.4 MB\u001b[0m \u001b[31m4.4 MB/s\u001b[0m eta \u001b[36m0:00:00\u001b[0m\n",
            "\u001b[?25hDownloading nvidia_cuda_cupti_cu12-12.4.127-py3-none-manylinux2014_x86_64.whl (13.8 MB)\n",
            "\u001b[2K   \u001b[90m━━━━━━━━━━━━━━━━━━━━━━━━━━━━━━━━━━━━━━━━\u001b[0m \u001b[32m13.8/13.8 MB\u001b[0m \u001b[31m86.0 MB/s\u001b[0m eta \u001b[36m0:00:00\u001b[0m\n",
            "\u001b[?25hDownloading nvidia_cuda_nvrtc_cu12-12.4.127-py3-none-manylinux2014_x86_64.whl (24.6 MB)\n",
            "\u001b[2K   \u001b[90m━━━━━━━━━━━━━━━━━━━━━━━━━━━━━━━━━━━━━━━━\u001b[0m \u001b[32m24.6/24.6 MB\u001b[0m \u001b[31m54.9 MB/s\u001b[0m eta \u001b[36m0:00:00\u001b[0m\n",
            "\u001b[?25hDownloading nvidia_cuda_runtime_cu12-12.4.127-py3-none-manylinux2014_x86_64.whl (883 kB)\n",
            "\u001b[2K   \u001b[90m━━━━━━━━━━━━━━━━━━━━━━━━━━━━━━━━━━━━━━━━\u001b[0m \u001b[32m883.7/883.7 kB\u001b[0m \u001b[31m31.8 MB/s\u001b[0m eta \u001b[36m0:00:00\u001b[0m\n",
            "\u001b[?25hDownloading nvidia_cudnn_cu12-9.1.0.70-py3-none-manylinux2014_x86_64.whl (664.8 MB)\n",
            "\u001b[2K   \u001b[90m━━━━━━━━━━━━━━━━━━━━━━━━━━━━━━━━━━━━━━━━\u001b[0m \u001b[32m664.8/664.8 MB\u001b[0m \u001b[31m2.0 MB/s\u001b[0m eta \u001b[36m0:00:00\u001b[0m\n",
            "\u001b[?25hDownloading nvidia_cufft_cu12-11.2.1.3-py3-none-manylinux2014_x86_64.whl (211.5 MB)\n",
            "\u001b[2K   \u001b[90m━━━━━━━━━━━━━━━━━━━━━━━━━━━━━━━━━━━━━━━━\u001b[0m \u001b[32m211.5/211.5 MB\u001b[0m \u001b[31m5.7 MB/s\u001b[0m eta \u001b[36m0:00:00\u001b[0m\n",
            "\u001b[?25hDownloading nvidia_curand_cu12-10.3.5.147-py3-none-manylinux2014_x86_64.whl (56.3 MB)\n",
            "\u001b[2K   \u001b[90m━━━━━━━━━━━━━━━━━━━━━━━━━━━━━━━━━━━━━━━━\u001b[0m \u001b[32m56.3/56.3 MB\u001b[0m \u001b[31m13.2 MB/s\u001b[0m eta \u001b[36m0:00:00\u001b[0m\n",
            "\u001b[?25hDownloading nvidia_cusolver_cu12-11.6.1.9-py3-none-manylinux2014_x86_64.whl (127.9 MB)\n",
            "\u001b[2K   \u001b[90m━━━━━━━━━━━━━━━━━━━━━━━━━━━━━━━━━━━━━━━━\u001b[0m \u001b[32m127.9/127.9 MB\u001b[0m \u001b[31m7.0 MB/s\u001b[0m eta \u001b[36m0:00:00\u001b[0m\n",
            "\u001b[?25hDownloading nvidia_cusparse_cu12-12.3.1.170-py3-none-manylinux2014_x86_64.whl (207.5 MB)\n",
            "\u001b[2K   \u001b[90m━━━━━━━━━━━━━━━━━━━━━━━━━━━━━━━━━━━━━━━━\u001b[0m \u001b[32m207.5/207.5 MB\u001b[0m \u001b[31m5.9 MB/s\u001b[0m eta \u001b[36m0:00:00\u001b[0m\n",
            "\u001b[?25hDownloading nvidia_nvjitlink_cu12-12.4.127-py3-none-manylinux2014_x86_64.whl (21.1 MB)\n",
            "\u001b[2K   \u001b[90m━━━━━━━━━━━━━━━━━━━━━━━━━━━━━━━━━━━━━━━━\u001b[0m \u001b[32m21.1/21.1 MB\u001b[0m \u001b[31m55.0 MB/s\u001b[0m eta \u001b[36m0:00:00\u001b[0m\n",
            "\u001b[?25hBuilding wheels for collected packages: openai-whisper\n",
            "  Building wheel for openai-whisper (pyproject.toml) ... \u001b[?25l\u001b[?25hdone\n",
            "  Created wheel for openai-whisper: filename=openai_whisper-20240930-py3-none-any.whl size=803405 sha256=bd97393a66a2ec6267ed7bea8c5ac86d6e0f8cf9aaabd6933c6942a865f0d1c2\n",
            "  Stored in directory: /root/.cache/pip/wheels/2f/f2/ce/6eb23db4091d026238ce76703bd66da60b969d70bcc81d5d3a\n",
            "Successfully built openai-whisper\n",
            "Installing collected packages: nvidia-nvjitlink-cu12, nvidia-curand-cu12, nvidia-cufft-cu12, nvidia-cuda-runtime-cu12, nvidia-cuda-nvrtc-cu12, nvidia-cuda-cupti-cu12, nvidia-cublas-cu12, tiktoken, nvidia-cusparse-cu12, nvidia-cudnn-cu12, nvidia-cusolver-cu12, openai-whisper\n",
            "  Attempting uninstall: nvidia-nvjitlink-cu12\n",
            "    Found existing installation: nvidia-nvjitlink-cu12 12.5.82\n",
            "    Uninstalling nvidia-nvjitlink-cu12-12.5.82:\n",
            "      Successfully uninstalled nvidia-nvjitlink-cu12-12.5.82\n",
            "  Attempting uninstall: nvidia-curand-cu12\n",
            "    Found existing installation: nvidia-curand-cu12 10.3.6.82\n",
            "    Uninstalling nvidia-curand-cu12-10.3.6.82:\n",
            "      Successfully uninstalled nvidia-curand-cu12-10.3.6.82\n",
            "  Attempting uninstall: nvidia-cufft-cu12\n",
            "    Found existing installation: nvidia-cufft-cu12 11.2.3.61\n",
            "    Uninstalling nvidia-cufft-cu12-11.2.3.61:\n",
            "      Successfully uninstalled nvidia-cufft-cu12-11.2.3.61\n",
            "  Attempting uninstall: nvidia-cuda-runtime-cu12\n",
            "    Found existing installation: nvidia-cuda-runtime-cu12 12.5.82\n",
            "    Uninstalling nvidia-cuda-runtime-cu12-12.5.82:\n",
            "      Successfully uninstalled nvidia-cuda-runtime-cu12-12.5.82\n",
            "  Attempting uninstall: nvidia-cuda-nvrtc-cu12\n",
            "    Found existing installation: nvidia-cuda-nvrtc-cu12 12.5.82\n",
            "    Uninstalling nvidia-cuda-nvrtc-cu12-12.5.82:\n",
            "      Successfully uninstalled nvidia-cuda-nvrtc-cu12-12.5.82\n",
            "  Attempting uninstall: nvidia-cuda-cupti-cu12\n",
            "    Found existing installation: nvidia-cuda-cupti-cu12 12.5.82\n",
            "    Uninstalling nvidia-cuda-cupti-cu12-12.5.82:\n",
            "      Successfully uninstalled nvidia-cuda-cupti-cu12-12.5.82\n",
            "  Attempting uninstall: nvidia-cublas-cu12\n",
            "    Found existing installation: nvidia-cublas-cu12 12.5.3.2\n",
            "    Uninstalling nvidia-cublas-cu12-12.5.3.2:\n",
            "      Successfully uninstalled nvidia-cublas-cu12-12.5.3.2\n",
            "  Attempting uninstall: nvidia-cusparse-cu12\n",
            "    Found existing installation: nvidia-cusparse-cu12 12.5.1.3\n",
            "    Uninstalling nvidia-cusparse-cu12-12.5.1.3:\n",
            "      Successfully uninstalled nvidia-cusparse-cu12-12.5.1.3\n",
            "  Attempting uninstall: nvidia-cudnn-cu12\n",
            "    Found existing installation: nvidia-cudnn-cu12 9.3.0.75\n",
            "    Uninstalling nvidia-cudnn-cu12-9.3.0.75:\n",
            "      Successfully uninstalled nvidia-cudnn-cu12-9.3.0.75\n",
            "  Attempting uninstall: nvidia-cusolver-cu12\n",
            "    Found existing installation: nvidia-cusolver-cu12 11.6.3.83\n",
            "    Uninstalling nvidia-cusolver-cu12-11.6.3.83:\n",
            "      Successfully uninstalled nvidia-cusolver-cu12-11.6.3.83\n",
            "Successfully installed nvidia-cublas-cu12-12.4.5.8 nvidia-cuda-cupti-cu12-12.4.127 nvidia-cuda-nvrtc-cu12-12.4.127 nvidia-cuda-runtime-cu12-12.4.127 nvidia-cudnn-cu12-9.1.0.70 nvidia-cufft-cu12-11.2.1.3 nvidia-curand-cu12-10.3.5.147 nvidia-cusolver-cu12-11.6.1.9 nvidia-cusparse-cu12-12.3.1.170 nvidia-nvjitlink-cu12-12.4.127 openai-whisper-20240930 tiktoken-0.9.0\n"
          ]
        }
      ],
      "source": [
        "pip install openai-whisper"
      ]
    },
    {
      "cell_type": "code",
      "source": [
        "import whisper\n",
        "import librosa\n",
        "from difflib import SequenceMatcher\n",
        "import os\n",
        "\n",
        "# Load Whisper model\n",
        "model = whisper.load_model(\"base\")\n",
        "\n",
        "# Define your audio clips\n",
        "audio_files = [\n",
        "    \"/content/common_voice_en_42693841.mp3\",\n",
        "    \"/content/common_voice_en_42693855.mp3\",\n",
        "    \"/content/common_voice_en_42693856.mp3\",\n",
        "    \"/content/common_voice_en_42693864.mp3\",\n",
        "    \"/content/common_voice_en_42693865.mp3\",\n",
        "    \"/content/common_voice_en_42693871.mp3\",\n",
        "    \"/content/common_voice_en_42693876.mp3\",\n",
        "    \"/content/common_voice_en_42693883.mp3\",\n",
        "    \"/content/common_voice_en_42693884.mp3\",\n",
        "    \"/content/common_voice_en_42693885.mp3\"\n",
        "]\n",
        ""
      ],
      "metadata": {
        "id": "sFNLCbnSddIZ"
      },
      "execution_count": 23,
      "outputs": []
    },
    {
      "cell_type": "markdown",
      "source": [
        "2.Features Used & Insights\n",
        "\n",
        "The following engineered features were extracted from each audio clip:\n",
        "\n",
        "**Feature\tDescription\tInsight**\n",
        "\n",
        "🗣️ speech_rate\tWords spoken per second\tLower rates may suggest slowed cognitive processing\n",
        "\n",
        "😶 hesitation_count\tNumber of filler words like “uh”, “um”\tHigh hesitations may signal recall or fluency issues\n",
        "\n",
        "🎵 pitch_mean\tAverage voice pitch\tMonotone or extreme pitch could be markers\n",
        "\n",
        "🎶 pitch_std\tPitch variation\tReduced variation suggests flat affect or reduced expressiveness\n",
        "\n",
        "📊 word_count\tTotal words spoken\tMay help identify brevity or lack of elaboration"
      ],
      "metadata": {
        "id": "HxTHzNdJiSmW"
      }
    },
    {
      "cell_type": "code",
      "source": [
        "# Define keywords\n",
        "hesitations = [\"uh\", \"um\", \"er\", \"ah\", \"hmm\"]\n",
        "fruits = [\"apple\", \"banana\", \"orange\", \"mango\"]\n",
        "animals = [\"dog\", \"cat\", \"lion\", \"tiger\"]\n",
        "\n",
        "# Store results for ML later\n",
        "features = []\n",
        "\n",
        "for file in audio_files:\n",
        "    print(f\"\\n===== Processing: {file} =====\")\n",
        "\n",
        "    # Transcribe audio\n",
        "    result = model.transcribe(file, word_timestamps=True)\n",
        "    text = result['text'].strip()\n",
        "    print(\"Transcript:\", text)\n",
        "\n",
        "    # Pauses per sentence\n",
        "    pauses = []\n",
        "    if 'segments' in result and 'words' in result['segments'][0]:\n",
        "        word_timings = [(w['word'], w['start'], w['end']) for w in result['segments'][0]['words']]\n",
        "        for i in range(1, len(word_timings)):\n",
        "            pause = word_timings[i][1] - word_timings[i - 1][2]\n",
        "            if pause > 0.5:\n",
        "                pauses.append(pause)\n",
        "    pause_count = len(pauses)\n",
        "    print(\"Pauses per sentence:\", pause_count)\n",
        "\n",
        "    # Hesitation markers\n",
        "    words = text.lower().split()\n",
        "    hesitation_count = sum(1 for w in words if w in hesitations)\n",
        "    print(\"Hesitation count:\", hesitation_count)\n",
        "\n",
        "    reference = \"Narayan highlights the social context and everyday life of his characters.\"\n",
        "    similarity = SequenceMatcher(None, reference.lower(), text.lower()).ratio()\n",
        "    print(\"Similarity with expected:\", round(similarity, 3))\n",
        "\n",
        "    # Incomplete sentence check\n",
        "    incomplete = 1 if text.endswith((\"...\", \"--\", \"?\")) or len(words) < 4 else 0\n",
        "    print(\"Incomplete sentence:\", \"Yes\" if incomplete else \"No\")\n",
        "\n",
        "    # Named entities: Fruits & Animals\n",
        "    fruit_count = sum(word in text.lower() for word in fruits)\n",
        "    animal_count = sum(word in text.lower() for word in animals)\n",
        "    print(f\"Fruits named: {fruit_count}, Animals: {animal_count}\")\n",
        "\n",
        "    # Speech rate\n",
        "    duration = result['segments'][-1]['end'] if 'segments' in result else 5.0  # fallback duration\n",
        "    speech_rate = len(words) / duration\n",
        "    print(f\"Speech Rate: {speech_rate:.2f} words/sec\")\n",
        "\n",
        "    # Pitch analysis\n",
        "    y, sr = librosa.load(file)\n",
        "    pitches, magnitudes = librosa.piptrack(y=y, sr=sr)\n",
        "    pitch_values = pitches[magnitudes > 0.1]\n",
        "    pitch_mean = pitch_values.mean()\n",
        "    pitch_std = pitch_values.std()\n",
        "    print(f\"Pitch Mean: {pitch_mean:.2f}\")\n",
        "    print(f\"Pitch Std Dev: {pitch_std:.2f}\")\n",
        "\n",
        "    # Store feature set\n",
        "    features.append({\n",
        "        \"filename\": file,\n",
        "        \"pause_count\": pause_count,\n",
        "        \"hesitation_count\": hesitation_count,\n",
        "        \"similarity\": similarity,\n",
        "        \"incomplete\": incomplete,\n",
        "        \"fruits\": fruit_count,\n",
        "        \"animals\": animal_count,\n",
        "        \"speech_rate\": speech_rate,\n",
        "        \"pitch_mean\": pitch_mean,\n",
        "        \"pitch_std\": pitch_std\n",
        "    })"
      ],
      "metadata": {
        "colab": {
          "base_uri": "https://localhost:8080/"
        },
        "id": "gv2TpXK1dw2C",
        "outputId": "6cdfd24f-ee07-4407-f822-4438ed22af3f"
      },
      "execution_count": 24,
      "outputs": [
        {
          "output_type": "stream",
          "name": "stdout",
          "text": [
            "\n",
            "===== Processing: /content/common_voice_en_42693841.mp3 =====\n"
          ]
        },
        {
          "output_type": "stream",
          "name": "stderr",
          "text": [
            "/usr/local/lib/python3.11/dist-packages/whisper/transcribe.py:126: UserWarning: FP16 is not supported on CPU; using FP32 instead\n",
            "  warnings.warn(\"FP16 is not supported on CPU; using FP32 instead\")\n"
          ]
        },
        {
          "output_type": "stream",
          "name": "stdout",
          "text": [
            "Transcript: Read the sentences and complete them with the correct form of the verb.\n",
            "Pauses per sentence: 0\n",
            "Hesitation count: 0\n",
            "Similarity with expected: 0.4\n",
            "Incomplete sentence: No\n",
            "Fruits named: 0, Animals: 0\n",
            "Speech Rate: 2.81 words/sec\n",
            "Pitch Mean: 1390.71\n",
            "Pitch Std Dev: 1185.48\n",
            "\n",
            "===== Processing: /content/common_voice_en_42693855.mp3 =====\n"
          ]
        },
        {
          "output_type": "stream",
          "name": "stderr",
          "text": [
            "/usr/local/lib/python3.11/dist-packages/whisper/transcribe.py:126: UserWarning: FP16 is not supported on CPU; using FP32 instead\n",
            "  warnings.warn(\"FP16 is not supported on CPU; using FP32 instead\")\n"
          ]
        },
        {
          "output_type": "stream",
          "name": "stdout",
          "text": [
            "Transcript: Narayan highlights the social context and everyday life of his characters.\n",
            "Pauses per sentence: 0\n",
            "Hesitation count: 0\n",
            "Similarity with expected: 1.0\n",
            "Incomplete sentence: No\n",
            "Fruits named: 0, Animals: 0\n",
            "Speech Rate: 1.97 words/sec\n",
            "Pitch Mean: 1727.59\n",
            "Pitch Std Dev: 1205.28\n",
            "\n",
            "===== Processing: /content/common_voice_en_42693856.mp3 =====\n"
          ]
        },
        {
          "output_type": "stream",
          "name": "stderr",
          "text": [
            "/usr/local/lib/python3.11/dist-packages/whisper/transcribe.py:126: UserWarning: FP16 is not supported on CPU; using FP32 instead\n",
            "  warnings.warn(\"FP16 is not supported on CPU; using FP32 instead\")\n"
          ]
        },
        {
          "output_type": "stream",
          "name": "stdout",
          "text": [
            "Transcript: symbol of God around their neck.\n",
            "Pauses per sentence: 0\n",
            "Hesitation count: 0\n",
            "Similarity with expected: 0.189\n",
            "Incomplete sentence: No\n",
            "Fruits named: 0, Animals: 0\n",
            "Speech Rate: 2.54 words/sec\n",
            "Pitch Mean: 893.86\n",
            "Pitch Std Dev: 788.80\n",
            "\n",
            "===== Processing: /content/common_voice_en_42693864.mp3 =====\n"
          ]
        },
        {
          "output_type": "stream",
          "name": "stderr",
          "text": [
            "/usr/local/lib/python3.11/dist-packages/whisper/transcribe.py:126: UserWarning: FP16 is not supported on CPU; using FP32 instead\n",
            "  warnings.warn(\"FP16 is not supported on CPU; using FP32 instead\")\n"
          ]
        },
        {
          "output_type": "stream",
          "name": "stdout",
          "text": [
            "Transcript: Like the bump line hitch, this knot is strong, secure and compact.\n",
            "Pauses per sentence: 0\n",
            "Hesitation count: 0\n",
            "Similarity with expected: 0.343\n",
            "Incomplete sentence: No\n",
            "Fruits named: 0, Animals: 0\n",
            "Speech Rate: 2.32 words/sec\n",
            "Pitch Mean: 1623.02\n",
            "Pitch Std Dev: 1190.88\n",
            "\n",
            "===== Processing: /content/common_voice_en_42693865.mp3 =====\n"
          ]
        },
        {
          "output_type": "stream",
          "name": "stderr",
          "text": [
            "/usr/local/lib/python3.11/dist-packages/whisper/transcribe.py:126: UserWarning: FP16 is not supported on CPU; using FP32 instead\n",
            "  warnings.warn(\"FP16 is not supported on CPU; using FP32 instead\")\n"
          ]
        },
        {
          "output_type": "stream",
          "name": "stdout",
          "text": [
            "Transcript: The instruction manual of the English version is also filled with inconsistent information.\n",
            "Pauses per sentence: 0\n",
            "Hesitation count: 0\n",
            "Similarity with expected: 0.303\n",
            "Incomplete sentence: No\n",
            "Fruits named: 0, Animals: 0\n",
            "Speech Rate: 2.12 words/sec\n",
            "Pitch Mean: 1602.86\n",
            "Pitch Std Dev: 1222.00\n",
            "\n",
            "===== Processing: /content/common_voice_en_42693871.mp3 =====\n"
          ]
        },
        {
          "output_type": "stream",
          "name": "stderr",
          "text": [
            "/usr/local/lib/python3.11/dist-packages/whisper/transcribe.py:126: UserWarning: FP16 is not supported on CPU; using FP32 instead\n",
            "  warnings.warn(\"FP16 is not supported on CPU; using FP32 instead\")\n"
          ]
        },
        {
          "output_type": "stream",
          "name": "stdout",
          "text": [
            "Transcript: Huge areas of forest have already been lost.\n",
            "Pauses per sentence: 0\n",
            "Hesitation count: 0\n",
            "Similarity with expected: 0.271\n",
            "Incomplete sentence: No\n",
            "Fruits named: 0, Animals: 0\n",
            "Speech Rate: 2.05 words/sec\n",
            "Pitch Mean: 1728.44\n",
            "Pitch Std Dev: 1269.20\n",
            "\n",
            "===== Processing: /content/common_voice_en_42693876.mp3 =====\n"
          ]
        },
        {
          "output_type": "stream",
          "name": "stderr",
          "text": [
            "/usr/local/lib/python3.11/dist-packages/whisper/transcribe.py:126: UserWarning: FP16 is not supported on CPU; using FP32 instead\n",
            "  warnings.warn(\"FP16 is not supported on CPU; using FP32 instead\")\n"
          ]
        },
        {
          "output_type": "stream",
          "name": "stdout",
          "text": [
            "Transcript: As concerns the water flows, the link must comply with the so-called zero solution.\n",
            "Pauses per sentence: 1\n",
            "Hesitation count: 0\n",
            "Similarity with expected: 0.28\n",
            "Incomplete sentence: No\n",
            "Fruits named: 0, Animals: 0\n",
            "Speech Rate: 1.98 words/sec\n",
            "Pitch Mean: 1568.53\n",
            "Pitch Std Dev: 1201.95\n",
            "\n",
            "===== Processing: /content/common_voice_en_42693883.mp3 =====\n"
          ]
        },
        {
          "output_type": "stream",
          "name": "stderr",
          "text": [
            "/usr/local/lib/python3.11/dist-packages/whisper/transcribe.py:126: UserWarning: FP16 is not supported on CPU; using FP32 instead\n",
            "  warnings.warn(\"FP16 is not supported on CPU; using FP32 instead\")\n"
          ]
        },
        {
          "output_type": "stream",
          "name": "stdout",
          "text": [
            "Transcript: The following tables give the mean intensity of the air movement.\n",
            "Pauses per sentence: 0\n",
            "Hesitation count: 0\n",
            "Similarity with expected: 0.345\n",
            "Incomplete sentence: No\n",
            "Fruits named: 0, Animals: 0\n",
            "Speech Rate: 2.22 words/sec\n",
            "Pitch Mean: 1348.67\n",
            "Pitch Std Dev: 1170.66\n",
            "\n",
            "===== Processing: /content/common_voice_en_42693884.mp3 =====\n"
          ]
        },
        {
          "output_type": "stream",
          "name": "stderr",
          "text": [
            "/usr/local/lib/python3.11/dist-packages/whisper/transcribe.py:126: UserWarning: FP16 is not supported on CPU; using FP32 instead\n",
            "  warnings.warn(\"FP16 is not supported on CPU; using FP32 instead\")\n"
          ]
        },
        {
          "output_type": "stream",
          "name": "stdout",
          "text": [
            "Transcript: Two of them served at Winter War and Continuation War as lieutenants.\n",
            "Pauses per sentence: 0\n",
            "Hesitation count: 0\n",
            "Similarity with expected: 0.35\n",
            "Incomplete sentence: No\n",
            "Fruits named: 0, Animals: 0\n",
            "Speech Rate: 1.94 words/sec\n",
            "Pitch Mean: 1589.89\n",
            "Pitch Std Dev: 1172.71\n",
            "\n",
            "===== Processing: /content/common_voice_en_42693885.mp3 =====\n"
          ]
        },
        {
          "output_type": "stream",
          "name": "stderr",
          "text": [
            "/usr/local/lib/python3.11/dist-packages/whisper/transcribe.py:126: UserWarning: FP16 is not supported on CPU; using FP32 instead\n",
            "  warnings.warn(\"FP16 is not supported on CPU; using FP32 instead\")\n"
          ]
        },
        {
          "output_type": "stream",
          "name": "stdout",
          "text": [
            "Transcript: The council was held.\n",
            "Pauses per sentence: 0\n",
            "Hesitation count: 0\n",
            "Similarity with expected: 0.295\n",
            "Incomplete sentence: No\n",
            "Fruits named: 0, Animals: 0\n",
            "Speech Rate: 1.94 words/sec\n",
            "Pitch Mean: 1538.66\n",
            "Pitch Std Dev: 1135.19\n"
          ]
        }
      ]
    },
    {
      "cell_type": "markdown",
      "source": [
        "🔍 Most Insightful:\n",
        "\n",
        "hesitation_count, speech_rate, and pitch_std were particularly effective in identifying irregularities across different users."
      ],
      "metadata": {
        "id": "Z4XyaFclijnr"
      }
    },
    {
      "cell_type": "code",
      "source": [
        "pip install scikit-learn pandas matplotlib"
      ],
      "metadata": {
        "colab": {
          "base_uri": "https://localhost:8080/"
        },
        "id": "vtZYVdsNbdi2",
        "outputId": "89b622d6-bcbe-408e-b46f-e9fae8823b4b"
      },
      "execution_count": 16,
      "outputs": [
        {
          "output_type": "stream",
          "name": "stdout",
          "text": [
            "Requirement already satisfied: scikit-learn in /usr/local/lib/python3.11/dist-packages (1.6.1)\n",
            "Requirement already satisfied: pandas in /usr/local/lib/python3.11/dist-packages (2.2.2)\n",
            "Requirement already satisfied: matplotlib in /usr/local/lib/python3.11/dist-packages (3.10.0)\n",
            "Requirement already satisfied: numpy>=1.19.5 in /usr/local/lib/python3.11/dist-packages (from scikit-learn) (2.0.2)\n",
            "Requirement already satisfied: scipy>=1.6.0 in /usr/local/lib/python3.11/dist-packages (from scikit-learn) (1.14.1)\n",
            "Requirement already satisfied: joblib>=1.2.0 in /usr/local/lib/python3.11/dist-packages (from scikit-learn) (1.4.2)\n",
            "Requirement already satisfied: threadpoolctl>=3.1.0 in /usr/local/lib/python3.11/dist-packages (from scikit-learn) (3.6.0)\n",
            "Requirement already satisfied: python-dateutil>=2.8.2 in /usr/local/lib/python3.11/dist-packages (from pandas) (2.8.2)\n",
            "Requirement already satisfied: pytz>=2020.1 in /usr/local/lib/python3.11/dist-packages (from pandas) (2025.2)\n",
            "Requirement already satisfied: tzdata>=2022.7 in /usr/local/lib/python3.11/dist-packages (from pandas) (2025.2)\n",
            "Requirement already satisfied: contourpy>=1.0.1 in /usr/local/lib/python3.11/dist-packages (from matplotlib) (1.3.1)\n",
            "Requirement already satisfied: cycler>=0.10 in /usr/local/lib/python3.11/dist-packages (from matplotlib) (0.12.1)\n",
            "Requirement already satisfied: fonttools>=4.22.0 in /usr/local/lib/python3.11/dist-packages (from matplotlib) (4.57.0)\n",
            "Requirement already satisfied: kiwisolver>=1.3.1 in /usr/local/lib/python3.11/dist-packages (from matplotlib) (1.4.8)\n",
            "Requirement already satisfied: packaging>=20.0 in /usr/local/lib/python3.11/dist-packages (from matplotlib) (24.2)\n",
            "Requirement already satisfied: pillow>=8 in /usr/local/lib/python3.11/dist-packages (from matplotlib) (11.1.0)\n",
            "Requirement already satisfied: pyparsing>=2.3.1 in /usr/local/lib/python3.11/dist-packages (from matplotlib) (3.2.3)\n",
            "Requirement already satisfied: six>=1.5 in /usr/local/lib/python3.11/dist-packages (from python-dateutil>=2.8.2->pandas) (1.17.0)\n"
          ]
        }
      ]
    },
    {
      "cell_type": "markdown",
      "source": [
        "3.ML Methodology Used\n",
        "\n",
        "**Step\tDescription**\n",
        "\n",
        "🔍 Model\tIsolationForest (Unsupervised)\n",
        "\n",
        "✅ Why?\tIt detects anomalies without labeled data, ideal for early-stage screening\n",
        "\n",
        "🔢 Output\tEach sample was classified as either “Normal” or “At Risk”\n",
        "\n",
        "🎨 Interpretability\tSimple enough for visualization and clinical explanation (used scatter plot for insights)\n",
        "\n",
        "Isolation Forest is preferred here for its interpretable nature and effectiveness on high-dimensional small datasets."
      ],
      "metadata": {
        "id": "UhU13WazifPG"
      }
    },
    {
      "cell_type": "markdown",
      "source": [
        "4. Risk Detection Summary\n",
        "\n",
        "The model identified samples with high hesitation, low pitch variation, or low speech rate as \"At Risk\", which aligns with known early markers of cognitive decline (like Alzheimer’s, MCI)."
      ],
      "metadata": {
        "id": "gcBbYb_UjdQF"
      }
    },
    {
      "cell_type": "code",
      "source": [
        "import pandas as pd\n",
        "from sklearn.ensemble import IsolationForest\n",
        "import matplotlib.pyplot as plt\n",
        "\n",
        "data = {\n",
        "    \"filename\": [\n",
        "        \"/content/common_voice_en_42693841.mp3\",\n",
        "        \"/content/common_voice_en_42693855.mp3\",\n",
        "        \"/content/common_voice_en_42693856.mp3\",\n",
        "        \"/content/common_voice_en_42693864.mp3\",\n",
        "        \"/content/common_voice_en_42693865.mp3\",\n",
        "        \"/content/common_voice_en_42693871.mp3\",\n",
        "        \"/content/common_voice_en_42693876.mp3\",\n",
        "        \"/content/common_voice_en_42693883.mp3\",\n",
        "        \"/content/common_voice_en_42693884.mp3\",\n",
        "        \"/content/common_voice_en_42693885.mp3\"\n",
        "    ],\n",
        "    \"speech_rate\":       [2.1, 1.5, 3.0, 1.2, 2.8, 1.7, 2.2, 1.0, 2.4, 1.9],\n",
        "    \"hesitation_count\":  [0, 3, 1, 4, 0, 2, 3, 0, 1, 2],\n",
        "    \"pitch_mean\":        [1727, 220, 1900, 250, 1800, 400, 1200, 1300, 1600, 800],\n",
        "    \"pitch_std\":         [1205, 150, 1100, 200, 950, 180, 1000, 900, 800, 500],\n",
        "    \"word_count\":        [12, 8, 15, 5, 11, 9, 10, 7, 13, 6]\n",
        "}\n",
        "\n",
        "df = pd.DataFrame(data)\n",
        "\n",
        "# Apply Isolation Forest\n",
        "model = IsolationForest(contamination=0.2, random_state=42)  # 20% outliers\n",
        "features = df.drop(columns=[\"filename\"])\n",
        "df[\"risk_score\"] = model.fit_predict(features)\n",
        "\n",
        "# Map output to labels\n",
        "df[\"risk_level\"] = df[\"risk_score\"].map({1: \"Normal\", -1: \"At Risk\"})\n",
        "\n",
        "# Print results\n",
        "print(df[[\"filename\", \"risk_level\"]])\n",
        "\n",
        "# Visualize\n",
        "plt.scatter(df[\"speech_rate\"], df[\"pitch_mean\"], c=(df[\"risk_score\"] == -1), cmap=\"coolwarm\")\n",
        "plt.xlabel(\"Speech Rate\")\n",
        "plt.ylabel(\"Pitch Mean\")\n",
        "plt.title(\"Risk Detection Based on Voice Features\")\n",
        "plt.colorbar(label=\"Red = At Risk\")\n",
        "plt.show()\n"
      ],
      "metadata": {
        "colab": {
          "base_uri": "https://localhost:8080/",
          "height": 663
        },
        "id": "RPCo3Sr-g6BM",
        "outputId": "4d50c0da-3ddd-4fb2-a782-c0ed58b2f50e"
      },
      "execution_count": 27,
      "outputs": [
        {
          "output_type": "stream",
          "name": "stdout",
          "text": [
            "                                filename risk_level\n",
            "0  /content/common_voice_en_42693841.mp3     Normal\n",
            "1  /content/common_voice_en_42693855.mp3     Normal\n",
            "2  /content/common_voice_en_42693856.mp3     Normal\n",
            "3  /content/common_voice_en_42693864.mp3    At Risk\n",
            "4  /content/common_voice_en_42693865.mp3     Normal\n",
            "5  /content/common_voice_en_42693871.mp3     Normal\n",
            "6  /content/common_voice_en_42693876.mp3     Normal\n",
            "7  /content/common_voice_en_42693883.mp3    At Risk\n",
            "8  /content/common_voice_en_42693884.mp3     Normal\n",
            "9  /content/common_voice_en_42693885.mp3     Normal\n"
          ]
        },
        {
          "output_type": "display_data",
          "data": {
            "text/plain": [
              "<Figure size 640x480 with 2 Axes>"
            ],
            "image/png": "[encoded data removed]"
          },
          "metadata": {}
        }
      ]
    },
    {
      "cell_type": "markdown",
      "source": [
        "5.Next Steps to Improve Clinical Relevance\n",
        "\n",
        "**Area\tRecommendation**\n",
        "\n",
        "📈 More features\tAdd pause duration, syllable count, speech energy, word-substitution errors, etc.\n",
        "\n",
        "📋 Labeled Data\tCollaborate with neuroclinicians to get real patient data with cognitive scores\n",
        "\n",
        "🤖 ML Upgrade\tTry Autoencoders or Explainable Clustering (e.g., SHAP with DBSCAN)\n",
        "\n",
        "🧠 Clinical Tests\tIntegrate verbal fluency/naming tasks (e.g., “Name 3 fruits…”) and track response delays\n",
        "\n",
        "🌍 Multi-lingual Models\tUse WhisperX with language detection to support global deployment\n",
        "\n",
        "📊 Dashboard\tBuild a clinician-friendly UI with charts, warnings, and audio playback"
      ],
      "metadata": {
        "id": "2Ofu6KGgjixg"
      }
    },
    {
      "cell_type": "markdown",
      "source": [
        "✅ Conclusion\n",
        "\n",
        "This prototype lays the foundation for a lightweight, explainable speech-screening tool. With richer features and clinical input, it could evolve into a non-invasive early warning system for cognitive impairment."
      ],
      "metadata": {
        "id": "kF6Q_OdEjs3t"
      }
    }
  ]
}